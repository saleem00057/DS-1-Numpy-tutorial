{
 "cells": [
  {
   "cell_type": "markdown",
   "id": "66c62b63-66e9-44a6-84d1-569047e7ee94",
   "metadata": {},
   "source": [
    "## Numpy tutorial"
   ]
  },
  {
   "cell_type": "markdown",
   "id": "901a5229-ba2f-44ea-abb7-085526122603",
   "metadata": {},
   "source": [
    "*** In Python, NumPy (Numerical Python) is a powerful library used for working with numerical data, particularly large arrays and matrices. It is widely used in fields such as data analysis, machine learning, scientific computing, and engineering. ***"
   ]
  },
  {
   "cell_type": "markdown",
   "id": "fb749405-ef42-40bd-92a8-a36c8dd95c3f",
   "metadata": {},
   "source": [
    "* Efficient Array Operations\n",
    "* Support for Multi-Dimensional Arrays\n",
    "* Mathematical Functions\n",
    "* Linear Algebra Operations\n",
    "* Broadcasting\n",
    "* Random Number Generation\n",
    "* Efficient Memory Usage\n",
    "* Compatibility with Other Libraries\n",
    "* Easy Interfacing with External Data\n"
   ]
  },
  {
   "cell_type": "markdown",
   "id": "d6e06fd2-4c80-47b1-a72b-139d30e495ab",
   "metadata": {},
   "source": [
    "### How to install"
   ]
  },
  {
   "cell_type": "code",
   "execution_count": 1,
   "id": "8c622fc5-75cc-41a6-9e55-a271b984d62b",
   "metadata": {},
   "outputs": [
    {
     "name": "stdout",
     "output_type": "stream",
     "text": [
      "Note: you may need to restart the kernel to use updated packages.\n"
     ]
    },
    {
     "name": "stderr",
     "output_type": "stream",
     "text": [
      "ERROR: Invalid requirement: '#already'\n"
     ]
    }
   ],
   "source": [
    "pip install numpy #already installed"
   ]
  },
  {
   "cell_type": "code",
   "execution_count": 2,
   "id": "77752e70-fccb-4b90-a077-9030a3f60863",
   "metadata": {},
   "outputs": [],
   "source": [
    "import numpy as np "
   ]
  },
  {
   "cell_type": "code",
   "execution_count": 3,
   "id": "b87cf55e-abd7-4f17-8f88-34d42da727ea",
   "metadata": {},
   "outputs": [],
   "source": [
    "list1 = [1,2,3,4,5,6]\n",
    "array1 = np.array (list1) "
   ]
  },
  {
   "cell_type": "code",
   "execution_count": 4,
   "id": "fc1bcbeb-585c-4bbd-a0cb-49b33016d32f",
   "metadata": {},
   "outputs": [
    {
     "data": {
      "text/plain": [
       "array([1, 2, 3, 4, 5, 6])"
      ]
     },
     "execution_count": 4,
     "metadata": {},
     "output_type": "execute_result"
    }
   ],
   "source": [
    "array1"
   ]
  },
  {
   "cell_type": "markdown",
   "id": "60b719ca-fe1e-436f-858f-2b17cc7eadd4",
   "metadata": {},
   "source": [
    "# diamentional array (1d),(2d)\n",
    "* arange reshape,ones,zeros functions "
   ]
  },
  {
   "cell_type": "code",
   "execution_count": 5,
   "id": "f34bd9ee-650c-4a8a-a50b-0aa6f6c9af4c",
   "metadata": {},
   "outputs": [
    {
     "data": {
      "text/plain": [
       "numpy.ndarray"
      ]
     },
     "execution_count": 5,
     "metadata": {},
     "output_type": "execute_result"
    }
   ],
   "source": [
    "type(array1)"
   ]
  },
  {
   "cell_type": "code",
   "execution_count": 6,
   "id": "bf604cad-58f1-4720-9f56-ac03f9c2e109",
   "metadata": {},
   "outputs": [
    {
     "name": "stdout",
     "output_type": "stream",
     "text": [
      "['1' '2' '3' '4' '5' '6']\n"
     ]
    }
   ],
   "source": [
    "array1 = np.array (list1,dtype=\"U32\")\n",
    "print(array1)"
   ]
  },
  {
   "cell_type": "code",
   "execution_count": 7,
   "id": "39dfa525-8170-404c-8fb0-3598c55db8d1",
   "metadata": {},
   "outputs": [
    {
     "name": "stdout",
     "output_type": "stream",
     "text": [
      "[1. 2. 3. 4. 5. 6.]\n"
     ]
    }
   ],
   "source": [
    "array1 = np.array (list1,dtype=float)\n",
    "print(array1)"
   ]
  },
  {
   "cell_type": "code",
   "execution_count": 8,
   "id": "26fef389-f8b5-49c6-979d-c3061db29d00",
   "metadata": {},
   "outputs": [
    {
     "name": "stdout",
     "output_type": "stream",
     "text": [
      "[1 2 3 4 5 6]\n"
     ]
    }
   ],
   "source": [
    "array1 = np.array (list1,dtype=int)\n",
    "print(array1)"
   ]
  },
  {
   "cell_type": "code",
   "execution_count": 9,
   "id": "8e7e0615-3e03-467e-9f43-7b334061350a",
   "metadata": {},
   "outputs": [
    {
     "name": "stdout",
     "output_type": "stream",
     "text": [
      "[[1 3 4]\n",
      " [4 3 4]\n",
      " [2 3 4]]\n"
     ]
    }
   ],
   "source": [
    "import numpy as np\n",
    "list1 = [[1,3,4] , [4,3,4,] , [2,3,4, ]]\n",
    "array1 = np.array(list1)\n",
    "print(array1)"
   ]
  },
  {
   "cell_type": "code",
   "execution_count": 10,
   "id": "89b3ecf8-495b-4e29-8345-cba9aabc8869",
   "metadata": {},
   "outputs": [
    {
     "name": "stdout",
     "output_type": "stream",
     "text": [
      "[1 2 3 4 5 6 7]\n"
     ]
    }
   ],
   "source": [
    "import numpy as np\n",
    "array1 = np.arange(1,8)\n",
    "print(array1)"
   ]
  },
  {
   "cell_type": "code",
   "execution_count": 11,
   "id": "bad0b664-8111-44a6-b476-167fbcef10e5",
   "metadata": {},
   "outputs": [
    {
     "name": "stdout",
     "output_type": "stream",
     "text": [
      "[[11 12 13]\n",
      " [14 15 16]]\n"
     ]
    }
   ],
   "source": [
    "import numpy as np\n",
    "array1 = np.arange(11,17) .reshape((2,3))\n",
    "print(array1)"
   ]
  },
  {
   "cell_type": "code",
   "execution_count": 12,
   "id": "d3ae2222-be72-4b4b-ad52-c26a32b574d6",
   "metadata": {},
   "outputs": [
    {
     "name": "stdout",
     "output_type": "stream",
     "text": [
      "[[0. 0.]\n",
      " [0. 0.]\n",
      " [0. 0.]\n",
      " [0. 0.]]\n"
     ]
    }
   ],
   "source": [
    "array1 = np.zeros((4,2))\n",
    "print(array1)"
   ]
  },
  {
   "cell_type": "code",
   "execution_count": 13,
   "id": "8f635f94-4d9e-4265-9e7f-fa47031d4825",
   "metadata": {},
   "outputs": [
    {
     "name": "stdout",
     "output_type": "stream",
     "text": [
      "[0. 0. 0. 0.]\n"
     ]
    }
   ],
   "source": [
    "array1 = np.zeros((4))\n",
    "print(array1)"
   ]
  },
  {
   "cell_type": "code",
   "execution_count": 14,
   "id": "49044dd7-598b-4bfa-95d5-cfebb6e8536d",
   "metadata": {},
   "outputs": [
    {
     "name": "stdout",
     "output_type": "stream",
     "text": [
      "[1. 1. 1. 1.]\n"
     ]
    }
   ],
   "source": [
    "array1 = np.ones((4))\n",
    "print(array1)"
   ]
  },
  {
   "cell_type": "code",
   "execution_count": 15,
   "id": "74083613-f212-4df7-a533-ebce13508369",
   "metadata": {},
   "outputs": [
    {
     "name": "stdout",
     "output_type": "stream",
     "text": [
      "Array: [1 2 3 4 5]\n",
      "Squared Array: [ 1  4  9 16 25]\n",
      "Mean: 3.0\n",
      "Standard Deviation: 1.4142135623730951\n",
      "Matrix multiplication result:\n",
      " [[ 7 10]\n",
      " [15 22]]\n"
     ]
    }
   ],
   "source": [
    "import numpy as np\n",
    "\n",
    "# Create an array\n",
    "arr = np.array([1, 2, 3, 4, 5])\n",
    "\n",
    "# Perform element-wise operations\n",
    "arr_squared = arr ** 2\n",
    "\n",
    "# Statistical operations\n",
    "mean = np.mean(arr)\n",
    "std_dev = np.std(arr)\n",
    "\n",
    "# Create a 2D array (matrix)\n",
    "matrix = np.array([[1, 2], [3, 4]])\n",
    "\n",
    "# Matrix multiplication\n",
    "result = np.dot(matrix, matrix)\n",
    "\n",
    "print(\"Array:\", arr)\n",
    "print(\"Squared Array:\", arr_squared)\n",
    "print(\"Mean:\", mean)\n",
    "print(\"Standard Deviation:\", std_dev)\n",
    "print(\"Matrix multiplication result:\\n\", result)\n"
   ]
  },
  {
   "cell_type": "code",
   "execution_count": null,
   "id": "336225dc-6c10-4b6d-9b84-310fa3a7d192",
   "metadata": {},
   "outputs": [],
   "source": []
  }
 ],
 "metadata": {
  "kernelspec": {
   "display_name": "Python 3 (ipykernel)",
   "language": "python",
   "name": "python3"
  },
  "language_info": {
   "codemirror_mode": {
    "name": "ipython",
    "version": 3
   },
   "file_extension": ".py",
   "mimetype": "text/x-python",
   "name": "python",
   "nbconvert_exporter": "python",
   "pygments_lexer": "ipython3",
   "version": "3.11.7"
  }
 },
 "nbformat": 4,
 "nbformat_minor": 5
}
