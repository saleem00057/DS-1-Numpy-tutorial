{
 "cells": [
  {
   "cell_type": "markdown",
   "id": "836d0a3d-f125-468f-b94a-82d11ce60c79",
   "metadata": {},
   "source": [
    "## Attributes of numpy"
   ]
  },
  {
   "cell_type": "markdown",
   "id": "a615b420-a2b8-4d77-ad82-afbcaefd1d36",
   "metadata": {},
   "source": [
    "Attribute of numpy\n",
    "1) ndim\n",
    "2) size\n",
    "3) dtype\n",
    "4) shape\n",
    "5) itemsize"
   ]
  },
  {
   "cell_type": "code",
   "execution_count": 1,
   "id": "10553df7-b1b0-49cc-9cff-4c1bf8bad130",
   "metadata": {},
   "outputs": [
    {
     "name": "stdout",
     "output_type": "stream",
     "text": [
      "[2 5 6 4 7]\n"
     ]
    },
    {
     "data": {
      "text/plain": [
       "1"
      ]
     },
     "execution_count": 1,
     "metadata": {},
     "output_type": "execute_result"
    }
   ],
   "source": [
    "import numpy as np\n",
    "list1 = [2,5,6,4,7]\n",
    "array1 = np.array(list1)\n",
    "print(array1)\n",
    "array1.ndim"
   ]
  },
  {
   "cell_type": "code",
   "execution_count": 2,
   "id": "b492993a-e56b-4682-9895-c32126ed8adf",
   "metadata": {},
   "outputs": [
    {
     "name": "stdout",
     "output_type": "stream",
     "text": [
      "[2 5 6 4 7]\n"
     ]
    },
    {
     "data": {
      "text/plain": [
       "5"
      ]
     },
     "execution_count": 2,
     "metadata": {},
     "output_type": "execute_result"
    }
   ],
   "source": [
    "import numpy as np\n",
    "list1 = [2,5,6,4,7]\n",
    "array1 = np.array(list1)\n",
    "print(array1)\n",
    "array1.size"
   ]
  },
  {
   "cell_type": "code",
   "execution_count": 3,
   "id": "d215ba0d-cdcd-4e99-aa2d-071b63954faa",
   "metadata": {},
   "outputs": [
    {
     "name": "stdout",
     "output_type": "stream",
     "text": [
      "[[2 5 6 4]\n",
      " [2 5 6 4]]\n"
     ]
    },
    {
     "data": {
      "text/plain": [
       "2"
      ]
     },
     "execution_count": 3,
     "metadata": {},
     "output_type": "execute_result"
    }
   ],
   "source": [
    "import numpy as np\n",
    "list1 = [2,5,6,4], [2,5,6,4]\n",
    "array1 = np.array(list1)\n",
    "print(array1)\n",
    "array1.ndim"
   ]
  },
  {
   "cell_type": "code",
   "execution_count": 4,
   "id": "a782eb23-8760-489b-bf9d-5d59f10c338c",
   "metadata": {},
   "outputs": [
    {
     "name": "stdout",
     "output_type": "stream",
     "text": [
      "[[2 5 6 4]\n",
      " [2 5 6 4]]\n"
     ]
    },
    {
     "data": {
      "text/plain": [
       "8"
      ]
     },
     "execution_count": 4,
     "metadata": {},
     "output_type": "execute_result"
    }
   ],
   "source": [
    "import numpy as np\n",
    "list1 = [2,5,6,4], [2,5,6,4]\n",
    "array1 = np.array(list1)\n",
    "print(array1)\n",
    "array1.size"
   ]
  },
  {
   "cell_type": "code",
   "execution_count": 5,
   "id": "9a30f229-ec60-40cd-934b-b4d142042cc8",
   "metadata": {},
   "outputs": [
    {
     "name": "stdout",
     "output_type": "stream",
     "text": [
      "[[2 5 6 4]\n",
      " [2 5 6 4]]\n"
     ]
    },
    {
     "data": {
      "text/plain": [
       "dtype('int32')"
      ]
     },
     "execution_count": 5,
     "metadata": {},
     "output_type": "execute_result"
    }
   ],
   "source": [
    "import numpy as np\n",
    "list1 = [[2,5,6,4], [2,5,6,4]]\n",
    "array1 = np.array(list1)\n",
    "print(array1)\n",
    "array1.dtype"
   ]
  },
  {
   "cell_type": "code",
   "execution_count": 6,
   "id": "64cfdc08-aaf8-4e09-9b6d-822f33708ea7",
   "metadata": {},
   "outputs": [
    {
     "name": "stdout",
     "output_type": "stream",
     "text": [
      "[[[2 5 6 4]\n",
      "  [2 5 6 4]\n",
      "  [2 5 6 4]]]\n"
     ]
    },
    {
     "data": {
      "text/plain": [
       "(2, 4)"
      ]
     },
     "execution_count": 6,
     "metadata": {},
     "output_type": "execute_result"
    }
   ],
   "source": [
    "import numpy as np\n",
    "list3 = [[[2,5,6,4], [2,5,6,4], [2,5,6,4]]]\n",
    "array3 = np.array(list3)\n",
    "print(array3)\n",
    "array1.shape"
   ]
  },
  {
   "cell_type": "markdown",
   "id": "a71a31c0-91d1-4e48-94fa-fb86485c68a1",
   "metadata": {},
   "source": [
    "### Idexing in numpy"
   ]
  },
  {
   "cell_type": "code",
   "execution_count": 7,
   "id": "09602606-f337-4c74-98f6-01f344e47fee",
   "metadata": {},
   "outputs": [
    {
     "name": "stdout",
     "output_type": "stream",
     "text": [
      "2\n",
      "7\n"
     ]
    }
   ],
   "source": [
    "import numpy as np\n",
    "array1 = np.array([2,5,6,4,7])\n",
    "print(array1[0])\n",
    "print(array1[-1])\n"
   ]
  },
  {
   "cell_type": "code",
   "execution_count": 8,
   "id": "324a61d6-4f67-42d8-9ce7-4dfad62f4854",
   "metadata": {},
   "outputs": [
    {
     "name": "stdout",
     "output_type": "stream",
     "text": [
      "60\n",
      "[40 50 60]\n",
      "[20 50 80]\n"
     ]
    }
   ],
   "source": [
    "import numpy as np\n",
    "array1 = np.array([[10,20,30],[40,50,60],[70,80,90]])\n",
    "print(array1[1,2])\n",
    "print(array1[1,:])\n",
    "print(array1[:,1])"
   ]
  },
  {
   "cell_type": "markdown",
   "id": "a91ab349-9ea2-4d65-a606-76598b44825e",
   "metadata": {},
   "source": [
    "### Slicing in numpy"
   ]
  },
  {
   "cell_type": "code",
   "execution_count": 9,
   "id": "4a784902-2f7d-458a-bc80-cded10f34af3",
   "metadata": {},
   "outputs": [
    {
     "name": "stdout",
     "output_type": "stream",
     "text": [
      "[20 30]\n",
      "[20 40 60]\n",
      "[70 60]\n",
      "[10 30 50 70]\n",
      "[70 60 50 40 30 20 10]\n"
     ]
    }
   ],
   "source": [
    "import numpy as np\n",
    "array1 = np.array([10,20,30,40,50,60,70]) #One dimential\n",
    "print(array1[1:3])\n",
    "print(array1[1:6:2])\n",
    "print(array1[-1:-3:-1])\n",
    "print(array1[::2])\n",
    "print(array1[::-1])"
   ]
  },
  {
   "cell_type": "code",
   "execution_count": 10,
   "id": "065d1c6e-95c9-4679-a8a0-02427e7747f2",
   "metadata": {},
   "outputs": [
    {
     "name": "stdout",
     "output_type": "stream",
     "text": [
      "[25 26 27]\n",
      "[16 26 36 46]\n",
      "[[26 27]\n",
      " [36 37]]\n",
      "[[25 26 27]\n",
      " [35 36 37]]\n",
      "[[16 17]\n",
      " [26 27]\n",
      " [36 37]\n",
      " [46 47]]\n",
      "[26 36]\n",
      "[[25]\n",
      " [35]]\n"
     ]
    }
   ],
   "source": [
    "import numpy as np\n",
    "array1 = np.array([[15,16,17],[25,26,27],[35,36,37],[45,46,47]]) #Two dimential\n",
    "print(array1[1,])\n",
    "print(array1[:,1])\n",
    "print(array1[1:3 ,1:3])\n",
    "print(array1[1:3,])\n",
    "print(array1[:,1:3])\n",
    "print(array1[1:3,1])\n",
    "print(array1[1:3,:1])"
   ]
  },
  {
   "cell_type": "code",
   "execution_count": null,
   "id": "379eaa70-cc91-4070-861e-c353cfffb651",
   "metadata": {},
   "outputs": [],
   "source": []
  }
 ],
 "metadata": {
  "kernelspec": {
   "display_name": "Python 3 (ipykernel)",
   "language": "python",
   "name": "python3"
  },
  "language_info": {
   "codemirror_mode": {
    "name": "ipython",
    "version": 3
   },
   "file_extension": ".py",
   "mimetype": "text/x-python",
   "name": "python",
   "nbconvert_exporter": "python",
   "pygments_lexer": "ipython3",
   "version": "3.11.7"
  }
 },
 "nbformat": 4,
 "nbformat_minor": 5
}
